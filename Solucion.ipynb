{
 "cells": [
  {
   "cell_type": "code",
   "execution_count": 1,
   "metadata": {
    "collapsed": false
   },
   "outputs": [
    {
     "name": "stdout",
     "output_type": "stream",
     "text": [
      "Populating the interactive namespace from numpy and matplotlib\n"
     ]
    }
   ],
   "source": [
    "%pylab inline"
   ]
  },
  {
   "cell_type": "markdown",
   "metadata": {},
   "source": [
    "Presentación de la Solución\n",
    "\n",
    "Responda las siguientes preguntas (en un cuaderno de ipython, documento de `.Rmd`, o `shinyapp` ):\n",
    "\n",
    "1. Qué otros datos pueden ayudarlo a mejorar su predicción?\n",
    "2. Cuál día de la semana presenta el número mayor de órdenes?\n",
    "3. Cuál día de la semana presenta el menor número de órdenes?\n",
    "\n",
    "Su solución debe llevarse a cabo en el repositorio `HW8_NombreApellido` y debe incluir:\n",
    "- El código que detalla su modelo predictivo.\n",
    "- Cualquier intuición y/o visualizaciones que usted obtenga a partir de esos datos.\n",
    "- Las respuestas a las preguntas planteadas."
   ]
  }
 ],
 "metadata": {
  "kernelspec": {
   "display_name": "Python 3",
   "language": "python",
   "name": "python3"
  },
  "language_info": {
   "codemirror_mode": {
    "name": "ipython",
    "version": 3
   },
   "file_extension": ".py",
   "mimetype": "text/x-python",
   "name": "python",
   "nbconvert_exporter": "python",
   "pygments_lexer": "ipython3",
   "version": "3.4.3"
  }
 },
 "nbformat": 4,
 "nbformat_minor": 0
}
